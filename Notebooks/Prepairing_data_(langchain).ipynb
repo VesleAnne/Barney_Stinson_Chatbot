{
  "nbformat": 4,
  "nbformat_minor": 0,
  "metadata": {
    "colab": {
      "provenance": [],
      "gpuType": "T4",
      "mount_file_id": "1bTROGjjVVLEyyt9wB5Bl3Mb5YkzVK-kW",
      "authorship_tag": "ABX9TyOi3if99/1Dz5a9Ws/Fh3uV",
      "include_colab_link": true
    },
    "kernelspec": {
      "name": "python3",
      "display_name": "Python 3"
    },
    "language_info": {
      "name": "python"
    },
    "accelerator": "GPU"
  },
  "cells": [
    {
      "cell_type": "markdown",
      "metadata": {
        "id": "view-in-github",
        "colab_type": "text"
      },
      "source": [
        "<a href=\"https://colab.research.google.com/github/VesleAnne/Barney_Stinson_Chatbot/blob/main/Prepairing_data_(langchain).ipynb\" target=\"_parent\"><img src=\"https://colab.research.google.com/assets/colab-badge.svg\" alt=\"Open In Colab\"/></a>"
      ]
    },
    {
      "cell_type": "code",
      "execution_count": null,
      "metadata": {
        "id": "Q1Y7cvWZJl0q",
        "collapsed": true
      },
      "outputs": [],
      "source": [
        "!pip install langchain huggingface_hub sentence-transformers pandas torch transformers chromadb -q #chromadb, nltk"
      ]
    },
    {
      "cell_type": "code",
      "source": [
        "!pip install -U langchain-community -q\n",
        "#!pip install chardet"
      ],
      "metadata": {
        "id": "SP1gf-iefylI"
      },
      "execution_count": null,
      "outputs": []
    },
    {
      "cell_type": "code",
      "source": [
        "import pandas as pd\n",
        "import torch\n",
        "#import chromadb\n",
        "import os\n",
        "from langchain.embeddings import HuggingFaceEmbeddings\n",
        "from langchain.prompts import PromptTemplate\n",
        "from transformers import LlamaForCausalLM, LlamaTokenizer\n",
        "from transformers import AutoTokenizer, AutoModel\n",
        "#import nltk\n",
        "#import re\n",
        "#import tqdm\n",
        "#from nltk.tokenize import sent_tokenize\n",
        "from langchain.vectorstores import Chroma\n",
        "from langchain.schema import Document"
      ],
      "metadata": {
        "id": "_DgNcWzAJ0T5"
      },
      "execution_count": null,
      "outputs": []
    },
    {
      "cell_type": "code",
      "source": [
        "#import chardet\n",
        "\n",
        "#def detect_encoding(file_path):\n",
        "#    with open(file_path, 'rb') as file:\n",
        "#        result = chardet.detect(file.read())\n",
        "#        return result['encoding']\n",
        "\n",
        "#encoding = detect_encoding(txt_path)\n",
        "#print(f\"Detected encoding: {encoding}\")"
      ],
      "metadata": {
        "id": "jHBK-SK9iUfl"
      },
      "execution_count": null,
      "outputs": []
    },
    {
      "cell_type": "code",
      "source": [
        "#nltk.download('punkt')"
      ],
      "metadata": {
        "id": "M4PTXfjCdqmT"
      },
      "execution_count": null,
      "outputs": []
    },
    {
      "cell_type": "code",
      "source": [
        "device = torch.device('cuda' if torch.cuda.is_available() else 'cpu')"
      ],
      "metadata": {
        "id": "uJJdGvrBJ6lv"
      },
      "execution_count": null,
      "outputs": []
    },
    {
      "cell_type": "code",
      "source": [
        "%cd '/content/drive/MyDrive/МФТИ/nlp2/RAG'"
      ],
      "metadata": {
        "id": "gjnw3jsrJ9Lg",
        "colab": {
          "base_uri": "https://localhost:8080/"
        },
        "outputId": "62d88ff9-9e2a-4664-d68c-04bec6ba929c"
      },
      "execution_count": null,
      "outputs": [
        {
          "output_type": "stream",
          "name": "stdout",
          "text": [
            "/content/drive/MyDrive/МФТИ/nlp2/RAG\n"
          ]
        }
      ]
    },
    {
      "cell_type": "code",
      "source": [
        "current_directory = os.getcwd()\n",
        "save_directory = os.path.join(current_directory, 'DATA')\n",
        "os.makedirs(save_directory, exist_ok=True)"
      ],
      "metadata": {
        "id": "Sn7hF6jAaUGP"
      },
      "execution_count": null,
      "outputs": []
    },
    {
      "cell_type": "code",
      "source": [
        "# Initialize ChromaDB client\n",
        "#client = chromadb.Client()"
      ],
      "metadata": {
        "id": "6Kq5Gu_6KA4u"
      },
      "execution_count": null,
      "outputs": []
    },
    {
      "cell_type": "code",
      "source": [
        "# Create separate collections for text, Excel text, and Excel context\n",
        "#text_collection = client.create_collection(name=\"text_embeddings\")\n",
        "#csv_text_collection = client.create_collection(name=\"csv_text_embeddings\")"
      ],
      "metadata": {
        "id": "Tr6EQcpLKA1F"
      },
      "execution_count": null,
      "outputs": []
    },
    {
      "cell_type": "code",
      "source": [
        "# Initialize the multilingual model\n",
        "model_name = \"intfloat/multilingual-e5-large\"\n",
        "tokenizer = AutoTokenizer.from_pretrained(model_name)\n",
        "model = AutoModel.from_pretrained(model_name).to(device)"
      ],
      "metadata": {
        "id": "i5WBQwxnKAx3"
      },
      "execution_count": null,
      "outputs": []
    },
    {
      "cell_type": "code",
      "source": [
        "# Initialize LangChain's Hugging Face embeddings with the multilingual model\n",
        "hf = HuggingFaceEmbeddings(model_name=model_name)"
      ],
      "metadata": {
        "id": "8CeF4rj1eU44"
      },
      "execution_count": null,
      "outputs": []
    },
    {
      "cell_type": "code",
      "source": [
        "from langchain.text_splitter import MarkdownHeaderTextSplitter"
      ],
      "metadata": {
        "id": "wVB9tKk41vhB"
      },
      "execution_count": null,
      "outputs": []
    },
    {
      "cell_type": "code",
      "source": [
        "txt_filename = 'Stinson Barney. The Bro Code - BooksCafe.Net.txt'\n",
        "txt_path = os.path.join(current_directory, 'DATA', txt_filename)"
      ],
      "metadata": {
        "id": "QKq2bgXigZob"
      },
      "execution_count": null,
      "outputs": []
    },
    {
      "cell_type": "code",
      "source": [
        "# Open the Bro Code\n",
        "with open(txt_path, 'r', encoding='windows-1252') as file:\n",
        "    text = file.read()"
      ],
      "metadata": {
        "id": "xJnK2YSm2X7I"
      },
      "execution_count": null,
      "outputs": []
    },
    {
      "cell_type": "code",
      "source": [
        "# Define the headers to split on\n",
        "headers_to_split_on = [\n",
        "    (\"INTRODUCTION\", \"Header 1\"),\n",
        "    (\"BROCABULARY\", \"Header 2\"),\n",
        "    (\"APPROPRIATE \\\"BRO\\\" USAGE\", \"Header 3\"),\n",
        "    (\"INAPPROPRIATE \\\"BRO\\\" USAGE\", \"Header 4\"),\n",
        "    (\"ORIGIN\", \"Header 5\"),\n",
        "    (\"ARTICLE\", \"Header 6\")\n",
        "]"
      ],
      "metadata": {
        "id": "2w4zmabr2HER"
      },
      "execution_count": null,
      "outputs": []
    },
    {
      "cell_type": "code",
      "source": [
        "markdown_splitter = MarkdownHeaderTextSplitter(\n",
        "    headers_to_split_on=headers_to_split_on\n",
        ")\n",
        "\n",
        "md_header_splits = markdown_splitter.split_text(text)"
      ],
      "metadata": {
        "id": "fuuylxKk2NZg"
      },
      "execution_count": null,
      "outputs": []
    },
    {
      "cell_type": "code",
      "source": [
        "#Verifying that the file was splitted the reight way.\n",
        "md_header_splits[15]"
      ],
      "metadata": {
        "colab": {
          "base_uri": "https://localhost:8080/"
        },
        "id": "pgAsDFVR3lhO",
        "outputId": "8a19427c-f0e5-4e64-d50e-11bf64ea5f05"
      },
      "execution_count": null,
      "outputs": [
        {
          "output_type": "execute_result",
          "data": {
            "text/plain": [
              "Document(metadata={'Header 6': '10'}, page_content='A Bro will drop whatever he\\'s doing and rush to help his Bro dump a chick.  \\nIt\\'s normal for a Bro to get confused and disoriented when dumping a chick. For some reason he\\'s worried she\\'ll become agitated or even violent after he calmly explains his desire to have sex with her friends. This is when a Bro most needs his Bro to remind him that there are plenty of chicks in the ocean, and that a breakup need not be hazardous, stressful, or even time-consuming.  \\nSIDE-BRO: HOW TO DUMP A CHICK IN SIX WORDS OR LESS  \\n\"Maybe try a side salad instead.\"  \\n\"Cute! You\\'re growing a mustache, too!\"  \\n\"She looks like a younger you.\"  \\n\"I will finance a boob job.\"  \\n\"Sorry I threw out your shoes.\"  \\n\"Your sister let me do that.\"')"
            ]
          },
          "metadata": {},
          "execution_count": 46
        }
      ]
    },
    {
      "cell_type": "code",
      "source": [
        "from langchain.text_splitter import RecursiveCharacterTextSplitter"
      ],
      "metadata": {
        "id": "qFpUiKV36Y7R"
      },
      "execution_count": null,
      "outputs": []
    },
    {
      "cell_type": "code",
      "source": [
        "csv_filename = 'Barney.csv'\n",
        "csv_path = os.path.join(current_directory, 'DATA', csv_filename)"
      ],
      "metadata": {
        "id": "UmXhECCm6Y4u"
      },
      "execution_count": null,
      "outputs": []
    },
    {
      "cell_type": "code",
      "source": [
        "df = pd.read_csv(csv_path)\n",
        "df.head(10)"
      ],
      "metadata": {
        "colab": {
          "base_uri": "https://localhost:8080/",
          "height": 363
        },
        "id": "fnzMlv0p0K3z",
        "outputId": "ba817a86-53fc-4c57-a226-0000fea53c98"
      },
      "execution_count": null,
      "outputs": [
        {
          "output_type": "execute_result",
          "data": {
            "text/plain": [
              "     name                                               text  \\\n",
              "0  Barney   (on the phone) hey, so you know how I've alwa...   \n",
              "1  Barney   Okay, meet me at the bar in fifteen minutes, ...   \n",
              "2  Barney   Where's your suit!? Just once when I say suit...   \n",
              "3  Barney                                   It was a blazer!   \n",
              "4  Barney   I see what this is about. Have you forgotten ...   \n",
              "5  Barney   Ted, I'm going to teach you how to live. (Ted...   \n",
              "6  Barney   Lesson one, lose the goatee. It doesn't look ...   \n",
              "7  Barney   Lesson two, get a suit. Suits are cool. (Poin...   \n",
              "8  Barney   I thought I was your best friend. Ted, say I'...   \n",
              "9  Barney   Good! And as your best friend, I suggest we p...   \n",
              "\n",
              "                                             context  \n",
              "0   What was I doing? Your Uncle Marshall was tak...  \n",
              "1         Hey, you wanna do something tonight?  Hey.  \n",
              "2                         Hey.  I did that one time.  \n",
              "3   I did that one time.  You know, ever since co...  \n",
              "4   You know, ever since college it's been Marsha...  \n",
              "5   I see what this is about. Have you forgotten ...  \n",
              "6            Oh, right. Hi.  I'm not wearing a suit.  \n",
              "7   I'm not wearing a suit.  Thirty, right. You'r...  \n",
              "8   Thirty, right. You're right. I guess it's jus...  \n",
              "9   You're my best friend, Barney.  Wai-no, no, n...  "
            ],
            "text/html": [
              "\n",
              "  <div id=\"df-f377d298-e255-43b7-81b0-40021b365c20\" class=\"colab-df-container\">\n",
              "    <div>\n",
              "<style scoped>\n",
              "    .dataframe tbody tr th:only-of-type {\n",
              "        vertical-align: middle;\n",
              "    }\n",
              "\n",
              "    .dataframe tbody tr th {\n",
              "        vertical-align: top;\n",
              "    }\n",
              "\n",
              "    .dataframe thead th {\n",
              "        text-align: right;\n",
              "    }\n",
              "</style>\n",
              "<table border=\"1\" class=\"dataframe\">\n",
              "  <thead>\n",
              "    <tr style=\"text-align: right;\">\n",
              "      <th></th>\n",
              "      <th>name</th>\n",
              "      <th>text</th>\n",
              "      <th>context</th>\n",
              "    </tr>\n",
              "  </thead>\n",
              "  <tbody>\n",
              "    <tr>\n",
              "      <th>0</th>\n",
              "      <td>Barney</td>\n",
              "      <td>(on the phone) hey, so you know how I've alwa...</td>\n",
              "      <td>What was I doing? Your Uncle Marshall was tak...</td>\n",
              "    </tr>\n",
              "    <tr>\n",
              "      <th>1</th>\n",
              "      <td>Barney</td>\n",
              "      <td>Okay, meet me at the bar in fifteen minutes, ...</td>\n",
              "      <td>Hey, you wanna do something tonight?  Hey.</td>\n",
              "    </tr>\n",
              "    <tr>\n",
              "      <th>2</th>\n",
              "      <td>Barney</td>\n",
              "      <td>Where's your suit!? Just once when I say suit...</td>\n",
              "      <td>Hey.  I did that one time.</td>\n",
              "    </tr>\n",
              "    <tr>\n",
              "      <th>3</th>\n",
              "      <td>Barney</td>\n",
              "      <td>It was a blazer!</td>\n",
              "      <td>I did that one time.  You know, ever since co...</td>\n",
              "    </tr>\n",
              "    <tr>\n",
              "      <th>4</th>\n",
              "      <td>Barney</td>\n",
              "      <td>I see what this is about. Have you forgotten ...</td>\n",
              "      <td>You know, ever since college it's been Marsha...</td>\n",
              "    </tr>\n",
              "    <tr>\n",
              "      <th>5</th>\n",
              "      <td>Barney</td>\n",
              "      <td>Ted, I'm going to teach you how to live. (Ted...</td>\n",
              "      <td>I see what this is about. Have you forgotten ...</td>\n",
              "    </tr>\n",
              "    <tr>\n",
              "      <th>6</th>\n",
              "      <td>Barney</td>\n",
              "      <td>Lesson one, lose the goatee. It doesn't look ...</td>\n",
              "      <td>Oh, right. Hi.  I'm not wearing a suit.</td>\n",
              "    </tr>\n",
              "    <tr>\n",
              "      <th>7</th>\n",
              "      <td>Barney</td>\n",
              "      <td>Lesson two, get a suit. Suits are cool. (Poin...</td>\n",
              "      <td>I'm not wearing a suit.  Thirty, right. You'r...</td>\n",
              "    </tr>\n",
              "    <tr>\n",
              "      <th>8</th>\n",
              "      <td>Barney</td>\n",
              "      <td>I thought I was your best friend. Ted, say I'...</td>\n",
              "      <td>Thirty, right. You're right. I guess it's jus...</td>\n",
              "    </tr>\n",
              "    <tr>\n",
              "      <th>9</th>\n",
              "      <td>Barney</td>\n",
              "      <td>Good! And as your best friend, I suggest we p...</td>\n",
              "      <td>You're my best friend, Barney.  Wai-no, no, n...</td>\n",
              "    </tr>\n",
              "  </tbody>\n",
              "</table>\n",
              "</div>\n",
              "    <div class=\"colab-df-buttons\">\n",
              "\n",
              "  <div class=\"colab-df-container\">\n",
              "    <button class=\"colab-df-convert\" onclick=\"convertToInteractive('df-f377d298-e255-43b7-81b0-40021b365c20')\"\n",
              "            title=\"Convert this dataframe to an interactive table.\"\n",
              "            style=\"display:none;\">\n",
              "\n",
              "  <svg xmlns=\"http://www.w3.org/2000/svg\" height=\"24px\" viewBox=\"0 -960 960 960\">\n",
              "    <path d=\"M120-120v-720h720v720H120Zm60-500h600v-160H180v160Zm220 220h160v-160H400v160Zm0 220h160v-160H400v160ZM180-400h160v-160H180v160Zm440 0h160v-160H620v160ZM180-180h160v-160H180v160Zm440 0h160v-160H620v160Z\"/>\n",
              "  </svg>\n",
              "    </button>\n",
              "\n",
              "  <style>\n",
              "    .colab-df-container {\n",
              "      display:flex;\n",
              "      gap: 12px;\n",
              "    }\n",
              "\n",
              "    .colab-df-convert {\n",
              "      background-color: #E8F0FE;\n",
              "      border: none;\n",
              "      border-radius: 50%;\n",
              "      cursor: pointer;\n",
              "      display: none;\n",
              "      fill: #1967D2;\n",
              "      height: 32px;\n",
              "      padding: 0 0 0 0;\n",
              "      width: 32px;\n",
              "    }\n",
              "\n",
              "    .colab-df-convert:hover {\n",
              "      background-color: #E2EBFA;\n",
              "      box-shadow: 0px 1px 2px rgba(60, 64, 67, 0.3), 0px 1px 3px 1px rgba(60, 64, 67, 0.15);\n",
              "      fill: #174EA6;\n",
              "    }\n",
              "\n",
              "    .colab-df-buttons div {\n",
              "      margin-bottom: 4px;\n",
              "    }\n",
              "\n",
              "    [theme=dark] .colab-df-convert {\n",
              "      background-color: #3B4455;\n",
              "      fill: #D2E3FC;\n",
              "    }\n",
              "\n",
              "    [theme=dark] .colab-df-convert:hover {\n",
              "      background-color: #434B5C;\n",
              "      box-shadow: 0px 1px 3px 1px rgba(0, 0, 0, 0.15);\n",
              "      filter: drop-shadow(0px 1px 2px rgba(0, 0, 0, 0.3));\n",
              "      fill: #FFFFFF;\n",
              "    }\n",
              "  </style>\n",
              "\n",
              "    <script>\n",
              "      const buttonEl =\n",
              "        document.querySelector('#df-f377d298-e255-43b7-81b0-40021b365c20 button.colab-df-convert');\n",
              "      buttonEl.style.display =\n",
              "        google.colab.kernel.accessAllowed ? 'block' : 'none';\n",
              "\n",
              "      async function convertToInteractive(key) {\n",
              "        const element = document.querySelector('#df-f377d298-e255-43b7-81b0-40021b365c20');\n",
              "        const dataTable =\n",
              "          await google.colab.kernel.invokeFunction('convertToInteractive',\n",
              "                                                    [key], {});\n",
              "        if (!dataTable) return;\n",
              "\n",
              "        const docLinkHtml = 'Like what you see? Visit the ' +\n",
              "          '<a target=\"_blank\" href=https://colab.research.google.com/notebooks/data_table.ipynb>data table notebook</a>'\n",
              "          + ' to learn more about interactive tables.';\n",
              "        element.innerHTML = '';\n",
              "        dataTable['output_type'] = 'display_data';\n",
              "        await google.colab.output.renderOutput(dataTable, element);\n",
              "        const docLink = document.createElement('div');\n",
              "        docLink.innerHTML = docLinkHtml;\n",
              "        element.appendChild(docLink);\n",
              "      }\n",
              "    </script>\n",
              "  </div>\n",
              "\n",
              "\n",
              "<div id=\"df-fd6ab349-81e1-4401-89cb-7cfa42c3defe\">\n",
              "  <button class=\"colab-df-quickchart\" onclick=\"quickchart('df-fd6ab349-81e1-4401-89cb-7cfa42c3defe')\"\n",
              "            title=\"Suggest charts\"\n",
              "            style=\"display:none;\">\n",
              "\n",
              "<svg xmlns=\"http://www.w3.org/2000/svg\" height=\"24px\"viewBox=\"0 0 24 24\"\n",
              "     width=\"24px\">\n",
              "    <g>\n",
              "        <path d=\"M19 3H5c-1.1 0-2 .9-2 2v14c0 1.1.9 2 2 2h14c1.1 0 2-.9 2-2V5c0-1.1-.9-2-2-2zM9 17H7v-7h2v7zm4 0h-2V7h2v10zm4 0h-2v-4h2v4z\"/>\n",
              "    </g>\n",
              "</svg>\n",
              "  </button>\n",
              "\n",
              "<style>\n",
              "  .colab-df-quickchart {\n",
              "      --bg-color: #E8F0FE;\n",
              "      --fill-color: #1967D2;\n",
              "      --hover-bg-color: #E2EBFA;\n",
              "      --hover-fill-color: #174EA6;\n",
              "      --disabled-fill-color: #AAA;\n",
              "      --disabled-bg-color: #DDD;\n",
              "  }\n",
              "\n",
              "  [theme=dark] .colab-df-quickchart {\n",
              "      --bg-color: #3B4455;\n",
              "      --fill-color: #D2E3FC;\n",
              "      --hover-bg-color: #434B5C;\n",
              "      --hover-fill-color: #FFFFFF;\n",
              "      --disabled-bg-color: #3B4455;\n",
              "      --disabled-fill-color: #666;\n",
              "  }\n",
              "\n",
              "  .colab-df-quickchart {\n",
              "    background-color: var(--bg-color);\n",
              "    border: none;\n",
              "    border-radius: 50%;\n",
              "    cursor: pointer;\n",
              "    display: none;\n",
              "    fill: var(--fill-color);\n",
              "    height: 32px;\n",
              "    padding: 0;\n",
              "    width: 32px;\n",
              "  }\n",
              "\n",
              "  .colab-df-quickchart:hover {\n",
              "    background-color: var(--hover-bg-color);\n",
              "    box-shadow: 0 1px 2px rgba(60, 64, 67, 0.3), 0 1px 3px 1px rgba(60, 64, 67, 0.15);\n",
              "    fill: var(--button-hover-fill-color);\n",
              "  }\n",
              "\n",
              "  .colab-df-quickchart-complete:disabled,\n",
              "  .colab-df-quickchart-complete:disabled:hover {\n",
              "    background-color: var(--disabled-bg-color);\n",
              "    fill: var(--disabled-fill-color);\n",
              "    box-shadow: none;\n",
              "  }\n",
              "\n",
              "  .colab-df-spinner {\n",
              "    border: 2px solid var(--fill-color);\n",
              "    border-color: transparent;\n",
              "    border-bottom-color: var(--fill-color);\n",
              "    animation:\n",
              "      spin 1s steps(1) infinite;\n",
              "  }\n",
              "\n",
              "  @keyframes spin {\n",
              "    0% {\n",
              "      border-color: transparent;\n",
              "      border-bottom-color: var(--fill-color);\n",
              "      border-left-color: var(--fill-color);\n",
              "    }\n",
              "    20% {\n",
              "      border-color: transparent;\n",
              "      border-left-color: var(--fill-color);\n",
              "      border-top-color: var(--fill-color);\n",
              "    }\n",
              "    30% {\n",
              "      border-color: transparent;\n",
              "      border-left-color: var(--fill-color);\n",
              "      border-top-color: var(--fill-color);\n",
              "      border-right-color: var(--fill-color);\n",
              "    }\n",
              "    40% {\n",
              "      border-color: transparent;\n",
              "      border-right-color: var(--fill-color);\n",
              "      border-top-color: var(--fill-color);\n",
              "    }\n",
              "    60% {\n",
              "      border-color: transparent;\n",
              "      border-right-color: var(--fill-color);\n",
              "    }\n",
              "    80% {\n",
              "      border-color: transparent;\n",
              "      border-right-color: var(--fill-color);\n",
              "      border-bottom-color: var(--fill-color);\n",
              "    }\n",
              "    90% {\n",
              "      border-color: transparent;\n",
              "      border-bottom-color: var(--fill-color);\n",
              "    }\n",
              "  }\n",
              "</style>\n",
              "\n",
              "  <script>\n",
              "    async function quickchart(key) {\n",
              "      const quickchartButtonEl =\n",
              "        document.querySelector('#' + key + ' button');\n",
              "      quickchartButtonEl.disabled = true;  // To prevent multiple clicks.\n",
              "      quickchartButtonEl.classList.add('colab-df-spinner');\n",
              "      try {\n",
              "        const charts = await google.colab.kernel.invokeFunction(\n",
              "            'suggestCharts', [key], {});\n",
              "      } catch (error) {\n",
              "        console.error('Error during call to suggestCharts:', error);\n",
              "      }\n",
              "      quickchartButtonEl.classList.remove('colab-df-spinner');\n",
              "      quickchartButtonEl.classList.add('colab-df-quickchart-complete');\n",
              "    }\n",
              "    (() => {\n",
              "      let quickchartButtonEl =\n",
              "        document.querySelector('#df-fd6ab349-81e1-4401-89cb-7cfa42c3defe button');\n",
              "      quickchartButtonEl.style.display =\n",
              "        google.colab.kernel.accessAllowed ? 'block' : 'none';\n",
              "    })();\n",
              "  </script>\n",
              "</div>\n",
              "\n",
              "    </div>\n",
              "  </div>\n"
            ],
            "application/vnd.google.colaboratory.intrinsic+json": {
              "type": "dataframe",
              "variable_name": "df",
              "summary": "{\n  \"name\": \"df\",\n  \"rows\": 5040,\n  \"fields\": [\n    {\n      \"column\": \"name\",\n      \"properties\": {\n        \"dtype\": \"category\",\n        \"num_unique_values\": 1,\n        \"samples\": [\n          \"Barney\"\n        ],\n        \"semantic_type\": \"\",\n        \"description\": \"\"\n      }\n    },\n    {\n      \"column\": \"text\",\n      \"properties\": {\n        \"dtype\": \"string\",\n        \"num_unique_values\": 4730,\n        \"samples\": [\n          \" Who cares?\"\n        ],\n        \"semantic_type\": \"\",\n        \"description\": \"\"\n      }\n    },\n    {\n      \"column\": \"context\",\n      \"properties\": {\n        \"dtype\": \"string\",\n        \"num_unique_values\": 4922,\n        \"samples\": [\n          \" That girl in there is alive, right? Ted: I should call Barney, maybe he knows what happened.  Why are you sleeping in our tub?\"\n        ],\n        \"semantic_type\": \"\",\n        \"description\": \"\"\n      }\n    }\n  ]\n}"
            }
          },
          "metadata": {},
          "execution_count": 49
        }
      ]
    },
    {
      "cell_type": "code",
      "source": [
        "csv_texts = df['text'].fillna(\"\").astype(str).tolist()\n",
        "len(csv_texts)"
      ],
      "metadata": {
        "colab": {
          "base_uri": "https://localhost:8080/"
        },
        "id": "QjaAjrjQqKs1",
        "outputId": "d7cbc309-97b4-4580-eadc-f18c40fc5e77"
      },
      "execution_count": null,
      "outputs": [
        {
          "output_type": "execute_result",
          "data": {
            "text/plain": [
              "5040"
            ]
          },
          "metadata": {},
          "execution_count": 50
        }
      ]
    },
    {
      "cell_type": "code",
      "source": [
        "csv_texts[0]"
      ],
      "metadata": {
        "colab": {
          "base_uri": "https://localhost:8080/",
          "height": 53
        },
        "id": "I77fffSE0XNz",
        "outputId": "30e321f9-5ed7-4f9f-ffbb-017f9f7b00d0"
      },
      "execution_count": null,
      "outputs": [
        {
          "output_type": "execute_result",
          "data": {
            "text/plain": [
              "\" (on the phone) hey, so you know how I've always had a thing for half-Asian girls? Well, now I've got a new favorite: Lebanese girls! Lebanese girls are the new half-Asians.\""
            ],
            "application/vnd.google.colaboratory.intrinsic+json": {
              "type": "string"
            }
          },
          "metadata": {},
          "execution_count": 51
        }
      ]
    },
    {
      "cell_type": "code",
      "source": [
        "text_splitter = RecursiveCharacterTextSplitter(\n",
        "    separators=[\"\\'\"],\n",
        "    chunk_size=20,\n",
        "    chunk_overlap=0.2,\n",
        "    length_function=len\n",
        ")"
      ],
      "metadata": {
        "id": "rOSk4N9pqN5L"
      },
      "execution_count": null,
      "outputs": []
    },
    {
      "cell_type": "code",
      "source": [
        "csv_splits = [text_splitter.split_text(txt) for txt in csv_texts]\n",
        "csv_splits[10]"
      ],
      "metadata": {
        "colab": {
          "base_uri": "https://localhost:8080/"
        },
        "id": "TJyNJAXZqPrH",
        "outputId": "a5c3ea8b-eb42-454c-acee-4c58de6a0426"
      },
      "execution_count": null,
      "outputs": [
        {
          "output_type": "execute_result",
          "data": {
            "text/plain": [
              "[' (Taps a woman names Yasmine) Hi, have you met Ted? (Leaves and watches from a distance).']"
            ]
          },
          "metadata": {},
          "execution_count": 53
        }
      ]
    },
    {
      "cell_type": "code",
      "source": [
        "csv_data_documents = [Document(page_content=chunk) for chunks in csv_splits for chunk in chunks]"
      ],
      "metadata": {
        "id": "s34LDPxHqSBR"
      },
      "execution_count": null,
      "outputs": []
    },
    {
      "cell_type": "code",
      "source": [
        "question = \"Hello, bro. Do you have a suit?\""
      ],
      "metadata": {
        "id": "Q8XRyK1ZqVqR"
      },
      "execution_count": null,
      "outputs": []
    },
    {
      "cell_type": "code",
      "source": [
        "csv_filename = 'Barney.csv'\n",
        "current_directory = os.getcwd()\n",
        "csv_path = os.path.join(current_directory, 'DATA', csv_filename)\n",
        "persist_directory_csv = os.path.join(current_directory, 'csv_data_db')"
      ],
      "metadata": {
        "id": "DU4zpdcjW9y5"
      },
      "execution_count": null,
      "outputs": []
    },
    {
      "cell_type": "code",
      "source": [
        "persist_directory = current_directory\n",
        "# Save .txt file chunks separately in one collection (Bro Code)\n",
        "bro_code_splits = md_header_splits"
      ],
      "metadata": {
        "id": "sVIYeUC97boX"
      },
      "execution_count": null,
      "outputs": []
    },
    {
      "cell_type": "code",
      "source": [
        "# Create vector database for the Bro Code (from .txt)\n",
        "persist_directory_bro_code = os.path.join(persist_directory, 'bro_code_db')\n",
        "vectordb_bro_code = Chroma.from_documents(\n",
        "    documents=bro_code_splits,\n",
        "    embedding=hf,\n",
        "    persist_directory=persist_directory_bro_code\n",
        ")"
      ],
      "metadata": {
        "id": "lLuDle0ojYH7"
      },
      "execution_count": null,
      "outputs": []
    },
    {
      "cell_type": "code",
      "source": [
        "# Create and persist vector database\n",
        "persist_directory_csv = os.path.join(persist_directory, 'csv_data_db')\n",
        "vectordb_csv = Chroma.from_documents(\n",
        "    documents=csv_data_documents,\n",
        "    embedding=hf,\n",
        "    persist_directory=persist_directory_csv\n",
        ")"
      ],
      "metadata": {
        "id": "HhmBYYSPjYB9"
      },
      "execution_count": null,
      "outputs": []
    },
    {
      "cell_type": "code",
      "source": [
        "vectordb_csv.similarity_search(question,k=3)"
      ],
      "metadata": {
        "id": "mZBXquOSjX-d",
        "colab": {
          "base_uri": "https://localhost:8080/"
        },
        "outputId": "a5ea3b1d-778f-428c-8848-7487dca55251"
      },
      "execution_count": null,
      "outputs": [
        {
          "output_type": "execute_result",
          "data": {
            "text/plain": [
              "[Document(metadata={}, page_content='Hi. Have you met me?'),\n",
              " Document(metadata={}, page_content='Hi. Have you met me?'),\n",
              " Document(metadata={}, page_content=' Hey, Ted. Whatcha doing?')]"
            ]
          },
          "metadata": {},
          "execution_count": 70
        }
      ]
    },
    {
      "cell_type": "code",
      "source": [
        "vectordb_bro_code.similarity_search(question,k=3)"
      ],
      "metadata": {
        "id": "6O6xWcj_jX7l",
        "colab": {
          "base_uri": "https://localhost:8080/"
        },
        "outputId": "b4ef6335-ce15-4775-9f28-caaa0e1a418e"
      },
      "execution_count": null,
      "outputs": [
        {
          "output_type": "execute_result",
          "data": {
            "text/plain": [
              "[Document(metadata={'Header 6': '149'}, page_content='A Bro pretends to understand and enjoy cigars.  \\nCIGAR WORD SEARCH'),\n",
              " Document(metadata={'Header 6': '49'}, page_content='Wften asked, \"Do you need some help?\" a Bro shall automatically respond, \"I got it,\" whether or not he\\'s actually got it.  \\nEXCEPTIONS: Carrying an expensive TV, parallel parking an expensive car, loading an expensive TV into an expensive car.'),\n",
              " Document(metadata={'Header 6': '49'}, page_content='Wften asked, \"Do you need some help?\" a Bro shall automatically respond, \"I got it,\" whether or not he\\'s actually got it.  \\nEXCEPTIONS: Carrying an expensive TV, parallel parking an expensive car, loading an expensive TV into an expensive car.')]"
            ]
          },
          "metadata": {},
          "execution_count": 71
        }
      ]
    },
    {
      "cell_type": "code",
      "source": [
        "vectordb_bro_code.max_marginal_relevance_search(question,k=2, fetch_k=3)"
      ],
      "metadata": {
        "colab": {
          "base_uri": "https://localhost:8080/"
        },
        "id": "9h7KeLztzWwZ",
        "outputId": "a78df383-e328-45c2-fe93-4d8f06d9400e"
      },
      "execution_count": null,
      "outputs": [
        {
          "output_type": "execute_result",
          "data": {
            "text/plain": [
              "[Document(metadata={'Header 6': '149'}, page_content='A Bro pretends to understand and enjoy cigars.  \\nCIGAR WORD SEARCH'),\n",
              " Document(metadata={'Header 6': '49'}, page_content='Wften asked, \"Do you need some help?\" a Bro shall automatically respond, \"I got it,\" whether or not he\\'s actually got it.  \\nEXCEPTIONS: Carrying an expensive TV, parallel parking an expensive car, loading an expensive TV into an expensive car.')]"
            ]
          },
          "metadata": {},
          "execution_count": 72
        }
      ]
    },
    {
      "cell_type": "code",
      "source": [
        "vectordb_csv.max_marginal_relevance_search(question,k=2, fetch_k=3)"
      ],
      "metadata": {
        "id": "DqlOgXEp2Ows"
      },
      "execution_count": null,
      "outputs": []
    }
  ]
}
